{
 "cells": [
  {
   "cell_type": "markdown",
   "metadata": {},
   "source": [
    "# Prerequisites\n",
    "\n",
    "- Create python virtual environment -> ```python -m venv venv```\n",
    "- Activate the virtual environment -> ```. ./venv/scripts/activate```\n",
    "- Install python requirements in terminal -> ```pip install -r requirements.txt```\n",
    "- Kaggle API key (can be obtained from https://www.kaggle.com). Follow the following instructions: https://github.com/Kaggle/kaggle-api"
   ]
  },
  {
   "cell_type": "markdown",
   "metadata": {},
   "source": [
    "# Imports"
   ]
  },
  {
   "cell_type": "code",
   "execution_count": 1,
   "metadata": {},
   "outputs": [
    {
     "name": "stderr",
     "output_type": "stream",
     "text": [
      "C:\\Users\\Mathieu\\AppData\\Local\\Temp\\ipykernel_4424\\254240959.py:3: DeprecationWarning: The current Dask DataFrame implementation is deprecated. \n",
      "In a future release, Dask DataFrame will use a new implementation that\n",
      "contains several improvements including a logical query planning.\n",
      "The user-facing DataFrame API will remain unchanged.\n",
      "\n",
      "The new implementation is already available and can be enabled by\n",
      "installing the dask-expr library:\n",
      "\n",
      "    $ pip install dask-expr\n",
      "\n",
      "and turning the query planning option on:\n",
      "\n",
      "    >>> import dask\n",
      "    >>> dask.config.set({'dataframe.query-planning': True})\n",
      "    >>> import dask.dataframe as dd\n",
      "\n",
      "API documentation for the new implementation is available at\n",
      "https://docs.dask.org/en/stable/dask-expr-api.html\n",
      "\n",
      "Any feedback can be reported on the Dask issue tracker\n",
      "https://github.com/dask/dask/issues \n",
      "\n",
      "To disable this warning in the future, set dask config:\n",
      "\n",
      "    # via Python\n",
      "    >>> dask.config.set({'dataframe.query-planning-warning': False})\n",
      "\n",
      "    # via CLI\n",
      "    dask config set dataframe.query-planning-warning False\n",
      "\n",
      "\n",
      "  import dask.dataframe as df\n"
     ]
    }
   ],
   "source": [
    "import kaggle as kg\n",
    "import zipfile as zf\n",
    "import dask.dataframe as df\n",
    "import os\n",
    "\n"
   ]
  },
  {
   "cell_type": "markdown",
   "metadata": {},
   "source": [
    "# Download the dataset"
   ]
  },
  {
   "cell_type": "code",
   "execution_count": 2,
   "metadata": {},
   "outputs": [],
   "source": [
    "# Make sure you have the Kaggle API installed \n",
    "kg.api.authenticate()\n",
    "\n",
    "# Download the movies dataset\n",
    "kg.api.dataset_download_files('rounakbanik/the-movies-dataset')\n",
    "\n",
    "# Unzip the dataset\n",
    "zf.ZipFile('the-movies-dataset.zip').extractall('data')\n",
    "\n",
    "# Remove the zip file\n",
    "os.remove('the-movies-dataset.zip')"
   ]
  },
  {
   "cell_type": "markdown",
   "metadata": {},
   "source": [
    "# Read the data\n",
    "\n",
    "### Movies Metadata\n",
    "- adult: bool\n",
    "- belongs_to_collection: json str\n",
    "- budget number\n",
    "- genres: json str\n",
    "- homepage: str\n",
    "- id: number\n",
    "- imdb_id: str\n",
    "- original_language: str\n",
    "- original_title: str\n",
    "- overview: str\n",
    "- popularity: number\n",
    "- poster_path: str\n",
    "- production_companies: json str\n",
    "- production_countries: json str\n",
    "- release_date: date\n",
    "- revenue: number\n",
    "- runtime: number\n",
    "- spoken_languages: json str\n",
    "- status: str,\n",
    "- tagline: str\n",
    "- title: str\n",
    "- video: bool\n",
    "- vote_average: number\n",
    "- vote_count: number\n",
    "\n",
    "### Ratings\n",
    "\n",
    "- userId: number\n",
    "- movieId: number\n",
    "- rating: number\n",
    "- timestamp: timestamp"
   ]
  },
  {
   "cell_type": "code",
   "execution_count": 3,
   "metadata": {},
   "outputs": [
    {
     "name": "stdout",
     "output_type": "stream",
     "text": [
      "   adult                              belongs_to_collection    budget  \\\n",
      "0  False  {'id': 10194, 'name': 'Toy Story Collection', ...  30000000   \n",
      "1  False                                               <NA>  65000000   \n",
      "2  False  {'id': 119050, 'name': 'Grumpy Old Men Collect...         0   \n",
      "3  False                                               <NA>  16000000   \n",
      "4  False  {'id': 96871, 'name': 'Father of the Bride Col...         0   \n",
      "\n",
      "                                              genres  \\\n",
      "0  [{'id': 16, 'name': 'Animation'}, {'id': 35, '...   \n",
      "1  [{'id': 12, 'name': 'Adventure'}, {'id': 14, '...   \n",
      "2  [{'id': 10749, 'name': 'Romance'}, {'id': 35, ...   \n",
      "3  [{'id': 35, 'name': 'Comedy'}, {'id': 18, 'nam...   \n",
      "4                     [{'id': 35, 'name': 'Comedy'}]   \n",
      "\n",
      "                               homepage     id    imdb_id original_language  \\\n",
      "0  http://toystory.disney.com/toy-story    862  tt0114709                en   \n",
      "1                                  <NA>   8844  tt0113497                en   \n",
      "2                                  <NA>  15602  tt0113228                en   \n",
      "3                                  <NA>  31357  tt0114885                en   \n",
      "4                                  <NA>  11862  tt0113041                en   \n",
      "\n",
      "                original_title  \\\n",
      "0                    Toy Story   \n",
      "1                      Jumanji   \n",
      "2             Grumpier Old Men   \n",
      "3            Waiting to Exhale   \n",
      "4  Father of the Bride Part II   \n",
      "\n",
      "                                            overview  ... release_date  \\\n",
      "0  Led by Woody, Andy's toys live happily in his ...  ...   1995-10-30   \n",
      "1  When siblings Judy and Peter discover an encha...  ...   1995-12-15   \n",
      "2  A family wedding reignites the ancient feud be...  ...   1995-12-22   \n",
      "3  Cheated on, mistreated and stepped on, the wom...  ...   1995-12-22   \n",
      "4  Just when George Banks has recovered from his ...  ...   1995-02-10   \n",
      "\n",
      "     revenue runtime                                   spoken_languages  \\\n",
      "0  373554033    81.0           [{'iso_639_1': 'en', 'name': 'English'}]   \n",
      "1  262797249   104.0  [{'iso_639_1': 'en', 'name': 'English'}, {'iso...   \n",
      "2          0   101.0           [{'iso_639_1': 'en', 'name': 'English'}]   \n",
      "3   81452156   127.0           [{'iso_639_1': 'en', 'name': 'English'}]   \n",
      "4   76578911   106.0           [{'iso_639_1': 'en', 'name': 'English'}]   \n",
      "\n",
      "     status                                            tagline  \\\n",
      "0  Released                                               <NA>   \n",
      "1  Released          Roll the dice and unleash the excitement!   \n",
      "2  Released  Still Yelling. Still Fighting. Still Ready for...   \n",
      "3  Released  Friends are the people who let you be yourself...   \n",
      "4  Released  Just When His World Is Back To Normal... He's ...   \n",
      "\n",
      "                         title  video vote_average vote_count  \n",
      "0                    Toy Story  False          7.7       5415  \n",
      "1                      Jumanji  False          6.9       2413  \n",
      "2             Grumpier Old Men  False          6.5         92  \n",
      "3            Waiting to Exhale  False          6.1         34  \n",
      "4  Father of the Bride Part II  False          5.7        173  \n",
      "\n",
      "[5 rows x 24 columns]\n",
      "  userId movieId rating   timestamp\n",
      "0      1     110    1.0  1425941529\n",
      "1      1     147    4.5  1425942435\n",
      "2      1     858    5.0  1425941523\n",
      "3      1    1221    5.0  1425941546\n",
      "4      1    1246    5.0  1425941556\n"
     ]
    }
   ],
   "source": [
    "# Load the dataset into a Dask dataframe\n",
    "movies_df = df.read_csv('data/movies_metadata.csv', delimiter=',', header=0, dtype=str)\n",
    "\n",
    "ratings_df = df.read_csv('data/ratings.csv', delimiter=',', header=0, dtype=str)\n",
    "\n",
    "\n",
    "\n",
    "# Print the first 5 rows of the dataframe\n",
    "print(movies_df.head(5))\n",
    "print(ratings_df.head(5))"
   ]
  },
  {
   "cell_type": "markdown",
   "metadata": {},
   "source": [
    "# TF-IDF (Term Frequency-Inverse Document Frequency)"
   ]
  },
  {
   "cell_type": "code",
   "execution_count": null,
   "metadata": {},
   "outputs": [],
   "source": []
  },
  {
   "cell_type": "markdown",
   "metadata": {},
   "source": [
    "# Matrix Factorization"
   ]
  },
  {
   "cell_type": "code",
   "execution_count": null,
   "metadata": {},
   "outputs": [],
   "source": []
  }
 ],
 "metadata": {
  "kernelspec": {
   "display_name": "Python 3",
   "language": "python",
   "name": "python3"
  },
  "language_info": {
   "codemirror_mode": {
    "name": "ipython",
    "version": 3
   },
   "file_extension": ".py",
   "mimetype": "text/x-python",
   "name": "python",
   "nbconvert_exporter": "python",
   "pygments_lexer": "ipython3",
   "version": "3.11.0"
  }
 },
 "nbformat": 4,
 "nbformat_minor": 2
}
